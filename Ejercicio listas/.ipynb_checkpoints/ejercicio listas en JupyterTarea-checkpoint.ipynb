{
 "cells": [
  {
   "cell_type": "markdown",
   "id": "8d9a90cf-6f98-41a7-8489-05afbdc4a965",
   "metadata": {},
   "source": [
    "# Ejercicio listas en Jupyter"
   ]
  },
  {
   "cell_type": "markdown",
   "id": "527e12bb-a565-4805-a463-7c62deebb373",
   "metadata": {},
   "source": [
    "Funcion para calcular el total de las ventas:"
   ]
  },
  {
   "cell_type": "code",
   "execution_count": null,
   "id": "9b9f5cc2-e23b-4cb2-a184-c15dd027afa6",
   "metadata": {},
   "outputs": [],
   "source": [
    "def calcular_total_ventas(matriz_ventas: list) -> float:\n",
    "    total = 0\n",
    "    for sucursal in matriz_ventas:\n",
    "        for venta_diaria in sucursal:\n",
    "            total += venta_diaria\n",
    "    return total"
   ]
  },
  {
   "cell_type": "markdown",
   "id": "fc1460ce-9f57-440a-bc65-af8adf615051",
   "metadata": {},
   "source": [
    "Funcion para encontrar la sucursal que tiene menos ventas"
   ]
  },
  {
   "cell_type": "code",
   "execution_count": null,
   "id": "d5e74a3a-765b-4448-bd4d-416e416dd52c",
   "metadata": {},
   "outputs": [],
   "source": [
    "def encontrar_sucursal_menos_ventas(matriz_ventas: list) -> int:\n",
    "    ventas_por_sucursal = []\n",
    "    \n",
    "    for sucursal in matriz_ventas:\n",
    "        total_sucursal = sum(sucursal)\n",
    "        ventas_por_sucursal.append(total_sucursal)\n",
    "    \n",
    "    return ventas_por_sucursal.index(min(ventas_por_sucursal))"
   ]
  },
  {
   "cell_type": "markdown",
   "id": "25c47994-f728-4143-9210-123bc72633f6",
   "metadata": {},
   "source": [
    "Funcion para encontrar el dia con mayor ventas"
   ]
  },
  {
   "cell_type": "code",
   "execution_count": 2,
   "id": "a010b8af-131b-4c05-b242-1365989db476",
   "metadata": {},
   "outputs": [],
   "source": [
    "def encontrar_dia_mayor_venta(matriz_ventas: list) -> tuple:\n",
    "    # Inicializamos una lista para almacenar las ventas por día\n",
    "    ventas_por_dia = [0] * 5\n",
    "    \n",
    "    for sucursal in matriz_ventas:\n",
    "        for dia in range(5):\n",
    "            ventas_por_dia[dia] += sucursal[dia]\n",
    "    \n",
    "    max_venta = max(ventas_por_dia)\n",
    "    dia_max_venta = ventas_por_dia.index(max_venta)\n",
    "    \n",
    "    return (dia_max_venta, max_venta)"
   ]
  },
  {
   "cell_type": "markdown",
   "id": "f314dfe7-57c3-48de-ae1c-ee34d5dc08f4",
   "metadata": {},
   "source": [
    "Ejemplo de corrida"
   ]
  },
  {
   "cell_type": "code",
   "execution_count": 2,
   "id": "b394f599-6396-4956-9137-6b5fa8514e76",
   "metadata": {},
   "outputs": [],
   "source": [
    "# Matriz de ventas: 3 sucursales x 5 días (lunes a viernes)\n",
    "# Cada fila representa una sucursal, cada columna un día\n",
    "\n",
    "matriz_ventas = [\n",
    "    [1500.50, 2300.75, 1800.25, 2100.00, 2700.30],  # Sucursal 1\n",
    "    [1200.80, 1900.20, 2100.50, 1700.40, 2200.10],  # Sucursal 2\n",
    "    [1800.90, 2000.30, 1600.75, 2400.60, 1900.80],  # Sucursal 3\n",
    "]\n",
    "\n",
    "# a. Calcular total semanal\n",
    "total_ventas = calcular_total_ventas(matriz_ventas)\n",
    "\n",
    "# b. Encontrar sucursal que vendió menos\n",
    "sucursal_menos_ventas = encontrar_sucursal_menos_ventas(matriz_ventas)\n",
    "\n",
    "# c. Encontrar día que se vendió más\n",
    "dia_mayor_venta = encontrar_dia_mayor_venta(matriz_ventas)\n",
    "\n",
    "# Imprimir resultados\n",
    "imprimir_resultados(total_ventas, sucursal_menos_ventas, dia_mayor_venta)"
   ]
  }
 ],
 "metadata": {
  "kernelspec": {
   "display_name": "Python 3 (ipykernel)",
   "language": "python",
   "name": "python3"
  },
  "language_info": {
   "codemirror_mode": {
    "name": "ipython",
    "version": 3
   },
   "file_extension": ".py",
   "mimetype": "text/x-python",
   "name": "python",
   "nbconvert_exporter": "python",
   "pygments_lexer": "ipython3",
   "version": "3.12.3"
  }
 },
 "nbformat": 4,
 "nbformat_minor": 5
}
